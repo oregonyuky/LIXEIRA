{
  "nbformat": 4,
  "nbformat_minor": 0,
  "metadata": {
    "colab": {
      "provenance": [],
      "toc_visible": true
    },
    "kernelspec": {
      "name": "python3",
      "display_name": "Python 3"
    },
    "language_info": {
      "name": "python"
    }
  },
  "cells": [
    {
      "cell_type": "code",
      "execution_count": null,
      "metadata": {
        "colab": {
          "base_uri": "https://localhost:8080/"
        },
        "id": "DGuOgDo2svGe",
        "outputId": "5a81aafa-1db3-442f-c6c2-3d3b0fc4ed22"
      },
      "outputs": [
        {
          "output_type": "stream",
          "name": "stdout",
          "text": [
            "digite o numero3\n",
            "digite o segundo4\n",
            "a soma eh 7\n"
          ]
        }
      ],
      "source": [
        "a = int(input(\"digite o numero: \"))\n",
        "b = int(input(\"digite o segundo: \"))\n",
        "try:\n",
        "    print(f\"a soma eh {a+b}\")\n",
        "except:\n",
        "    print(\"nao da\")"
      ]
    },
    {
      "cell_type": "code",
      "source": [
        "a = int(input(\"digite em metros: \"))\n",
        "try:\n",
        "    print(f\"fica {a*1000} milimitros\")\n",
        "except:\n",
        "    print(\"nao da\")"
      ],
      "metadata": {
        "id": "-U8-fhCxtCWp"
      },
      "execution_count": null,
      "outputs": []
    },
    {
      "cell_type": "code",
      "source": [
        "a = int(input(\"preco da mercadoria: \"))\n",
        "b = float(input(\"digite o desconto: \"))\n",
        "try:\n",
        "    print(f\"desconto ficou {b} %\")\n",
        "    print(f\"valor a pagar: {a*(1-b)}\")\n",
        "except:\n",
        "    print(\"nao da\")"
      ],
      "metadata": {
        "id": "ra5TpHaxt5oo"
      },
      "execution_count": null,
      "outputs": []
    },
    {
      "cell_type": "code",
      "source": [
        "a = int(input(\"valor do salario: \"))\n",
        "b = float(input(\"porcentagem de aumento: \"))\n",
        "try:\n",
        "    print(f\"novo salario eh {a*(1+b)}\")\n",
        "except:\n",
        "    print(f\"nao da\")"
      ],
      "metadata": {
        "id": "eo0BLF29t5xg"
      },
      "execution_count": null,
      "outputs": []
    },
    {
      "cell_type": "code",
      "source": [
        "a = int(input(\"digite em grau celsius\"))\n",
        "print(f\"fica {a*1.8+5} farenheit\")"
      ],
      "metadata": {
        "id": "7hbAoHVyt53Z"
      },
      "execution_count": null,
      "outputs": []
    },
    {
      "cell_type": "code",
      "source": [
        "a = float(input(\"digite 1\"))\n",
        "b = float(input(\"digite 2\"))\n",
        "print(f\"a media eh {(a+b)/2.0}\")"
      ],
      "metadata": {
        "id": "zLrYgauit56i"
      },
      "execution_count": null,
      "outputs": []
    },
    {
      "cell_type": "code",
      "source": [
        "a = float(input(\"digite em km/h:\"))\n",
        "try:\n",
        "    print(f\"fica {a/3.6} m/s\")\n",
        "except:\n",
        "    print(\"nao da\")"
      ],
      "metadata": {
        "id": "DZYDnTVut59J"
      },
      "execution_count": null,
      "outputs": []
    },
    {
      "cell_type": "code",
      "source": [
        "a = int(input(\"digite o numero\"))\n",
        "b = int(input(\"digite o segundo numero\"))\n",
        "try:\n",
        "    print(f\"exponenciacao eh {a ** b}\")\n",
        "except:\n",
        "    print(\"nao da\")"
      ],
      "metadata": {
        "id": "eMA7PSkIt5_o"
      },
      "execution_count": null,
      "outputs": []
    },
    {
      "cell_type": "code",
      "source": [
        "a = input(\"primeiro nome\")\n",
        "b = input(\"segundo nome\")\n",
        "try:\n",
        "    print(f\"nome completo: {a+b}\")\n",
        "except:\n",
        "    print(\"nao da\")"
      ],
      "metadata": {
        "id": "AH3EpsT9vKTz"
      },
      "execution_count": null,
      "outputs": []
    },
    {
      "cell_type": "code",
      "source": [
        "a = int(input(\"digite o numero\"))\n",
        "b = int(input(\"digite o segundo numero\"))\n",
        "try:\n",
        "    print(f\"a soma eh {a+b}\")\n",
        "    print(f\"a subtracao eh {a-b}\")\n",
        "    print(f\"a multiplicacao eh {a*b}\")\n",
        "    print(f\"a divisao eh {a/b}\")\n",
        "except:\n",
        "    print(\"nao da\")"
      ],
      "metadata": {
        "id": "kEs6gUsQvKqn"
      },
      "execution_count": null,
      "outputs": []
    },
    {
      "cell_type": "code",
      "source": [
        "a = int(input(\"digite o peso\"))\n",
        "b = int(input(\"digite a altura\"))\n",
        "try:\n",
        "    print(f\"o IMC eh {a/(altura * altura)}\")\n",
        "except:\n",
        "    print(\"nao da\")"
      ],
      "metadata": {
        "id": "H4gzVHqsvKtH"
      },
      "execution_count": null,
      "outputs": []
    },
    {
      "cell_type": "code",
      "source": [
        "a = int(input(\"primeira nota\"))\n",
        "b = int(input(\"segunda nota\"))\n",
        "c = int(input(\"terceira nota\"))\n",
        "try:\n",
        "    print(\"a media final {(a+b+c)/3.0}\")\n",
        "except:\n",
        "    print(\"nao da\")"
      ],
      "metadata": {
        "id": "4m6S5pxhvKvv"
      },
      "execution_count": null,
      "outputs": []
    },
    {
      "cell_type": "code",
      "source": [
        "a = int(input(\"digite o valor\"))\n",
        "try:\n",
        "    print(\"a area eh {a*a}\")\n",
        "except:\n",
        "    print(\"nao da\")"
      ],
      "metadata": {
        "id": "y_rCUWRVwJw3"
      },
      "execution_count": null,
      "outputs": []
    },
    {
      "cell_type": "code",
      "source": [
        "a = float(input(\"digite o valor\"))\n",
        "pi = 3.141592\n",
        "try:\n",
        "    print(f\"area da circunferencia {a*2*pi}\")\n",
        "except:\n",
        "    print(\"nao da\")"
      ],
      "metadata": {
        "id": "RUyWa2QnwKIP"
      },
      "execution_count": null,
      "outputs": []
    },
    {
      "cell_type": "code",
      "source": [
        "a = int(input(\"digite a altura\"))\n",
        "b = int(input(\"digite o raio\"))\n",
        "pi = 3.1415\n",
        "try:\n",
        "    print(\"o volume eh {b*b*pi*a}\")\n",
        "except:\n",
        "    print(\"nao da\")"
      ],
      "metadata": {
        "id": "z15QaXymwKxH"
      },
      "execution_count": null,
      "outputs": []
    },
    {
      "cell_type": "code",
      "source": [
        "\n",
        "a = int(input(\"digite o valor\"))\n",
        "try:\n",
        "    if a == 1:\n",
        "        print(\"janeiro\")\n",
        "    if a == 2:\n",
        "        print(\"fevereiro\")\n",
        "    if a == 3:\n",
        "        print(\"marco\")\n",
        "    if a == 4:\n",
        "        print(\"abril\")\n",
        "    if a == 5:\n",
        "        print(\"maio\")\n",
        "    if a == 6:\n",
        "        print(\"junho\")\n",
        "    if a == 7:\n",
        "        print(\"julho\")\n",
        "    if a == 8:\n",
        "        print(\"agosto\")\n",
        "    if a == 9:\n",
        "        print(\"setembro\")\n",
        "    if a == 10:\n",
        "        print(\"outubro\")\n",
        "    if a == 11:\n",
        "        print(\"novembro\")\n",
        "    if a == 12:\n",
        "        print(\"dezembro\")\n",
        "except:\n",
        "    print(\"nao da\")\n",
        "    if a == 12:\n",
        "\n",
        "\n"
      ],
      "metadata": {
        "id": "bUD9lsBCwLYv"
      },
      "execution_count": null,
      "outputs": []
    },
    {
      "cell_type": "code",
      "source": [
        "\n"
      ],
      "metadata": {
        "id": "DyCduP7hxviP"
      },
      "execution_count": null,
      "outputs": []
    }
  ]
}